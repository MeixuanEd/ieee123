{
 "cells": [
  {
   "cell_type": "code",
   "execution_count": 2,
   "metadata": {
    "collapsed": true
   },
   "outputs": [],
   "source": [
    "import numpy as np\n",
    "from sys import argv"
   ]
  },
  {
   "cell_type": "code",
   "execution_count": 6,
   "metadata": {
    "collapsed": false
   },
   "outputs": [
    {
     "name": "stdout",
     "output_type": "stream",
     "text": [
      "(89, 12)\n",
      "(88, 12)\n"
     ]
    }
   ],
   "source": [
    "switches = np.loadtxt('./ieee_switch_status.csv', delimiter=',',dtype=np.str)\n",
    "print switches.shape\n",
    "switches_name=switches[0,:]\n",
    "status=np.array(['OPEN','CLOSED'])\n",
    "switches=switches[1:,:].astype(np.int)\n",
    "print switches.shape"
   ]
  },
  {
   "cell_type": "code",
   "execution_count": 8,
   "metadata": {
    "collapsed": false
   },
   "outputs": [],
   "source": [
    "for i in xrange(1,switches.shape[0]):\n",
    "    filename='switchtest_'+str(i)+'.glm'\n",
    "    target = open('./switch_files/'+filename, 'w')\n",
    "    target.write('// Switch configuration '+str(i)+'\\n\\n')\n",
    "    target.write('// lateral switches\\n')\n",
    "    for j in xrange(4):\n",
    "        target.write('modify '+switches_name[j]+'.status '+status[switches[i,j]]+';\\n')\n",
    "    target.write('\\n')    \n",
    "    target.write('// area switches\\n')\n",
    "    for j in xrange(4,10):\n",
    "        target.write('modify '+switches_name[j]+'.status '+status[switches[i,j]]+';\\n')\n",
    "    target.write('\\n')    \n",
    "    target.write('// load switches\\n')\n",
    "    for j in xrange(10,12):\n",
    "        target.write('modify '+switches_name[j]+'.status '+status[switches[i,j]]+';\\n')\n",
    "    target.close()    "
   ]
  },
  {
   "cell_type": "code",
   "execution_count": null,
   "metadata": {
    "collapsed": true
   },
   "outputs": [],
   "source": []
  },
  {
   "cell_type": "code",
   "execution_count": null,
   "metadata": {
    "collapsed": true
   },
   "outputs": [],
   "source": []
  }
 ],
 "metadata": {
  "kernelspec": {
   "display_name": "Python 2",
   "language": "python",
   "name": "python2"
  },
  "language_info": {
   "codemirror_mode": {
    "name": "ipython",
    "version": 2
   },
   "file_extension": ".py",
   "mimetype": "text/x-python",
   "name": "python",
   "nbconvert_exporter": "python",
   "pygments_lexer": "ipython2",
   "version": "2.7.6"
  }
 },
 "nbformat": 4,
 "nbformat_minor": 0
}
